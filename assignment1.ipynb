{
 "cells": [
  {
   "cell_type": "code",
   "execution_count": 14,
   "metadata": {},
   "outputs": [
    {
     "name": "stdout",
     "output_type": "stream",
     "text": [
      "the number is even\n"
     ]
    }
   ],
   "source": [
    "#program to ask the user to enter number and print the number is odd or even.\n",
    "num = int(input(\"please enter the number\"))\n",
    "if num % 2 == 0:\n",
    "    print(\"the number is even\")\n",
    "else:\n",
    "    print(\"the number is odd\")"
   ]
  },
  {
   "cell_type": "code",
   "execution_count": 2,
   "metadata": {},
   "outputs": [
    {
     "name": "stdout",
     "output_type": "stream",
     "text": [
      "x is the largest 4\n",
      "z is the lowest -1\n",
      "x is positive\n",
      "y is positive\n",
      "z is negative\n"
     ]
    }
   ],
   "source": [
    "#find a maximum and a minimum of three numbers or if the numbers are equal to each other\n",
    "x = int(input(\"enter the first one\"))\n",
    "y = int(input(\"enter the second one\"))\n",
    "z = int(input(\"enter the third one\"))\n",
    "\n",
    "if x == y == z :\n",
    "    print (\"the numbers are equal to each other\")\n",
    "else:\n",
    "    if x > y and x > z:\n",
    "        print (\"x is the largest\", x)\n",
    "        if z < y:\n",
    "            print (\"z is the lowest\", z)\n",
    "        else:\n",
    "            print (\"y is the lowest\", y)\n",
    "\n",
    "    elif y > z:\n",
    "        print (\"y is the largest\", y)\n",
    "        if x > z:\n",
    "            print (\"z is the lowest\", z)\n",
    "        else:\n",
    "            print (\"x is the lowest\", x)\n",
    "    else:\n",
    "        print (\"z is the largest\", z)\n",
    "        if x < y:\n",
    "            print (\"x is the lowest\", x)\n",
    "        else:\n",
    "            print (\"y is the lowest\", y)\n",
    "print(\"x is positive\" if x > 0 else \"x is negative\")\n",
    "print(\"y is positive\" if y > 0 else \"y is negative\")\n",
    "print(\"z is positive\" if z > 0 else \"z is negative\")"
   ]
  },
  {
   "cell_type": "code",
   "execution_count": 67,
   "metadata": {},
   "outputs": [
    {
     "name": "stdout",
     "output_type": "stream",
     "text": [
      "i at index 0\n",
      "a at index 3\n",
      "a at index 8\n",
      "y at index 9\n",
      "a at index 11\n",
      "y at index 13\n",
      "i at index 16\n"
     ]
    }
   ],
   "source": [
    "#the word contains a vowel character or not and its position\n",
    "vowel = \"aeiouy\"\n",
    "word = input (\"please enter the word\")\n",
    "index = 0\n",
    "v = []\n",
    "for char1 in word:\n",
    "    for char2 in vowel:\n",
    "        if char1 == char2:\n",
    "            print(char1,\"at index\", index)\n",
    "            v.append(char1)\n",
    "    index += 1\n",
    "\n",
    "if len(v) == 0:\n",
    "    print (\"there is no vowel character\")"
   ]
  },
  {
   "cell_type": "code",
   "execution_count": 8,
   "metadata": {},
   "outputs": [
    {
     "name": "stdout",
     "output_type": "stream",
     "text": [
      "8\n"
     ]
    }
   ],
   "source": [
    "#Write a program to display the last digit of a number\n",
    "x = input(\"enter the number\") \n",
    "print (x[-1])"
   ]
  },
  {
   "cell_type": "code",
   "execution_count": 5,
   "metadata": {},
   "outputs": [
    {
     "name": "stdout",
     "output_type": "stream",
     "text": [
      "x is divisible by 3\n"
     ]
    }
   ],
   "source": [
    "#Write a program to accept number from user and find if the number is divisible by 2 and 3 both.\n",
    "x = int(input(\"enter the first num\"))\n",
    "\n",
    "if x % 2 == 0 and x % 3 == 0 :\n",
    "    print (\"x is divisible by 2 and 3 both\")\n",
    "else:\n",
    "    if x % 2 == 0 :\n",
    "        print (\"x is divisible by 2\")\n",
    "\n",
    "    if x % 3 == 0 :\n",
    "        print (\"x is divisible by 3\")"
   ]
  },
  {
   "cell_type": "code",
   "execution_count": 10,
   "metadata": {},
   "outputs": [
    {
     "name": "stdout",
     "output_type": "stream",
     "text": [
      "student will not be able to sit in exam\n"
     ]
    }
   ],
   "source": [
    "#the percentage of class attended\n",
    "working_days = int(input(\"please enter the working days\"))\n",
    "days_for_absent = int(input(\"please enter the num of days for absent\"))\n",
    "\n",
    "student_days = working_days - days_for_absent\n",
    "percentage_of_attended = student_days / working_days * 100\n",
    "if percentage_of_attended < 75 :\n",
    "    print(\"student will not be able to sit in exam\")\n",
    "else:\n",
    "    print(\"student will be able to sit in exam\")\n",
    "\n"
   ]
  },
  {
   "cell_type": "code",
   "execution_count": 21,
   "metadata": {},
   "outputs": [
    {
     "name": "stdout",
     "output_type": "stream",
     "text": [
      "the price will be 5400.0\n"
     ]
    }
   ],
   "source": [
    "#market price and discount\n",
    "market_price = int(input(\"please enter the market price\"))\n",
    "if market_price > 10000:\n",
    "    market_price = market_price - (market_price * 0.2)\n",
    "    print(\"the price will be\", market_price)\n",
    "\n",
    "elif 10000 <= market_price > 7000:\n",
    "    market_price = market_price - (market_price * 0.15)\n",
    "    print(\"the price will be\", market_price)\n",
    "else:\n",
    "    market_price = market_price - (market_price * 0.1)\n",
    "    print(\"the price will be\", market_price)\n"
   ]
  },
  {
   "cell_type": "code",
   "execution_count": 18,
   "metadata": {},
   "outputs": [
    {
     "name": "stdout",
     "output_type": "stream",
     "text": [
      "NNNNN\n"
     ]
    }
   ],
   "source": [
    "#convert a string based on its condition \n",
    "string = input(\"enter the string \")\n",
    "uppercase = []\n",
    "lowercase = []\n",
    "for char in string:\n",
    "    if char.isupper():\n",
    "        uppercase.append(char)\n",
    "    else:\n",
    "        lowercase.append(char)\n",
    "\n",
    "if len(uppercase) > len(lowercase):\n",
    "    string = string.upper()\n",
    "else:\n",
    "    string = string.lower()\n",
    "\n",
    "print(string)"
   ]
  },
  {
   "cell_type": "code",
   "execution_count": 33,
   "metadata": {},
   "outputs": [
    {
     "name": "stdout",
     "output_type": "stream",
     "text": [
      "it's not palindrome or Armstrong\n"
     ]
    }
   ],
   "source": [
    "#check if the given number is palindrome or Armstrong or not.\n",
    "number = input(\"enter the number\")\n",
    "Armstrong = 0\n",
    "power = len(number)\n",
    "for n in number:\n",
    "    Armstrong += int(n) ** power\n",
    "\n",
    "if int(number) == Armstrong:\n",
    "    print(\"its Armstrong\")\n",
    "    \n",
    "elif number == number[::-1]:\n",
    "    print(\"it's palindrome\")\n",
    "\n",
    "else:\n",
    "    print(\"it's not palindrome or Armstrong\")"
   ]
  },
  {
   "cell_type": "code",
   "execution_count": 95,
   "metadata": {},
   "outputs": [
    {
     "name": "stdout",
     "output_type": "stream",
     "text": [
      "a million\n"
     ]
    }
   ],
   "source": [
    "#accept number from the user and convert it to words.\n",
    "num = input()\n",
    "intnum = int(num)\n",
    "toword1 = {\"0\": \"zero\",  \"1\": \"one\",   \"2\": \"two\",   \"3\": \"three\",  \"4\": \"four\",  \"5\": \"five\",  \"6\": \"six\",  \"7\": \"seven\",  \"8\": \"eight\",  \"9\": \"nine\" } \n",
    "toword2 = {\"2\":\"twenty\", \"3\":\"thirty\",\"4\": \"forty\", \"5\":\"fifty\",\"6\":\"sixty\", \"7\":\"seventy\", \"8\":\"eighty\", \"9\":\"ninety\"}\n",
    "toword3 = {\"1\":\"ten\", \"11\":\"eleven\", \"12\":\"twelve\", \"13\":\"thirteen\", \"14\":\"fourteen\", \"15\":\"fifteen\", \"16\":\"sixteen\", \"17\":\"seventeen\", \"18\":\"eighteen\", \"19\":\"nineteen\"}\n",
    "toword4 = [\"hundred\",\"thousand\",\"million\"]\n",
    "if intnum == 0:\n",
    "    print(toword1[0])\n",
    "\n",
    "if intnum <= 100:\n",
    "    if intnum == 100:\n",
    "        print(toword4[0])\n",
    "    if intnum < 10:\n",
    "        out = toword1[num]\n",
    "        print(out)\n",
    "    elif intnum <20:\n",
    "        out = toword3[intnum]\n",
    "        print(out)\n",
    "    else:\n",
    "        out1 = toword2[num[0]] +\" \"+ toword1[num[1]]\n",
    "        print(out1 )\n",
    "\n",
    "if intnum <= 1000:\n",
    "    if intnum == 1000:\n",
    "        print(toword4[1])\n",
    "    else:\n",
    "        out = toword1[num[0]] + \" \" + toword4[0] + \" \" + toword2[num[1]] + \" \" + toword1[num[2]]\n",
    "        print(out)\n",
    "\n",
    "if  1000 < intnum < 10000:\n",
    "    out = toword1[num[0]] +\" \" + toword4[1] + \" \" + toword1[num[1]] + \" \" + toword4[0] + \" \" + toword2[num[2]] + \" \" + toword1[num[3]]\n",
    "    print(out)\n",
    "\n",
    "if  10000 < intnum < 100000:\n",
    "    out = toword2[num[0]] +\" \" + toword1[num[1]] + \" \" + toword4[1] + \" \" + toword1[num[2]] + \" \" + toword4[0] + \" \" + toword2[num[3]] + \" \" + toword1[num[4]]\n",
    "    print(out)\n",
    "\n",
    "if intnum == 10000:\n",
    "    out = toword3[num[0]] + \" \" + toword4[1]\n",
    "    print(out)\n",
    "\n",
    "if intnum == 100000:\n",
    "    out = toword3[num[0]] + \" \" + toword4[0] + \" \" + toword4[1]\n",
    "    print(out)"
   ]
  },
  {
   "cell_type": "code",
   "execution_count": 129,
   "metadata": {},
   "outputs": [
    {
     "name": "stdout",
     "output_type": "stream",
     "text": [
      "-21\n"
     ]
    }
   ],
   "source": [
    "#1 + 4 – 9 +16 – 25 + 36 ………..n terms\n",
    "def sums(x):\n",
    "    series_sum = 0\n",
    "    for i in range(x+1):\n",
    "        terms = ((-1) ** (i + 1)) * (i ** 2)\n",
    "        series_sum += terms\n",
    "\n",
    "    return series_sum\n",
    "\n",
    "print(sums(6))\n",
    "\n"
   ]
  },
  {
   "cell_type": "code",
   "execution_count": 47,
   "metadata": {},
   "outputs": [
    {
     "name": "stdout",
     "output_type": "stream",
     "text": [
      "2 [0, 7]\n"
     ]
    }
   ],
   "source": [
    "# count number of “car” word in a string and its position\n",
    "sentence = input(\"enter the sentence\")\n",
    "counts = sentence.count(\"car\")\n",
    "position = []\n",
    "start = 0\n",
    "\n",
    "while True:\n",
    "    index = sentence.find(\"car\",start) \n",
    "    if index == -1:\n",
    "        break\n",
    "    position.append(index) \n",
    "    start = index + 1\n",
    "\n",
    "\n",
    "print(counts , position)"
   ]
  },
  {
   "cell_type": "code",
   "execution_count": 97,
   "metadata": {},
   "outputs": [
    {
     "name": "stdout",
     "output_type": "stream",
     "text": [
      "it's palindrome\n"
     ]
    }
   ],
   "source": [
    "word = input (\"please enter the word\")\n",
    "if word == word[::-1]:\n",
    "    print (\"it's palindrome\")\n",
    "else:\n",
    "    print (\"it's not palindrome\")"
   ]
  },
  {
   "cell_type": "code",
   "execution_count": 119,
   "metadata": {},
   "outputs": [
    {
     "name": "stdout",
     "output_type": "stream",
     "text": [
      "1\n",
      "12\n",
      "123\n",
      "1234\n"
     ]
    }
   ],
   "source": [
    "\n",
    "for i in range(1,5):\n",
    "    l=1\n",
    "    for j in range(0,i):\n",
    "        print(l,end=\"\")\n",
    "        l += 1\n",
    "    print(\"\\r\")\n"
   ]
  },
  {
   "cell_type": "code",
   "execution_count": 120,
   "metadata": {},
   "outputs": [
    {
     "name": "stdout",
     "output_type": "stream",
     "text": [
      "****\n",
      "***\n",
      "**\n",
      "*\n"
     ]
    }
   ],
   "source": [
    "for i in range(5,1,-1):\n",
    "    l=\"*\"\n",
    "    for j in range(0,i-1):\n",
    "        print(l ,end=\"\")\n",
    "    print(\"\\r\")"
   ]
  }
 ],
 "metadata": {
  "kernelspec": {
   "display_name": "Python 3",
   "language": "python",
   "name": "python3"
  },
  "language_info": {
   "codemirror_mode": {
    "name": "ipython",
    "version": 3
   },
   "file_extension": ".py",
   "mimetype": "text/x-python",
   "name": "python",
   "nbconvert_exporter": "python",
   "pygments_lexer": "ipython3",
   "version": "3.10.11"
  }
 },
 "nbformat": 4,
 "nbformat_minor": 2
}
