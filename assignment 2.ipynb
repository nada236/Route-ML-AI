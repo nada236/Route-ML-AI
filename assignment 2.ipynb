{
 "cells": [
  {
   "cell_type": "code",
   "execution_count": 1,
   "metadata": {},
   "outputs": [
    {
     "name": "stdout",
     "output_type": "stream",
     "text": [
      "20\n"
     ]
    }
   ],
   "source": [
    "x = input()\n",
    "\n",
    "if x.isdigit():\n",
    "    l = 0\n",
    "    for i in x: \n",
    "        l += int(i)\n",
    "    print(l)\n",
    "\n",
    "elif x.replace(\" \", \"\").isalpha():\n",
    "    x = x.replace(\" \", \"\")\n",
    "    print (x)\n",
    "\n",
    "else:\n",
    "    letters = []\n",
    "    digits = []\n",
    "    for i in x:\n",
    "        if i.isdigit():\n",
    "            digits.append(i)\n",
    "        elif i.isalpha():\n",
    "            letters.append(i)\n",
    "    strletter = \"\".join(letters)\n",
    "    strdigit = \"\".join(digits)\n",
    "    print(strletter)\n",
    "    print(strdigit) \n"
   ]
  },
  {
   "cell_type": "code",
   "execution_count": 2,
   "metadata": {},
   "outputs": [
    {
     "data": {
      "text/plain": [
       "4"
      ]
     },
     "execution_count": 2,
     "metadata": {},
     "output_type": "execute_result"
    }
   ],
   "source": [
    "def wordcount (x):\n",
    "    i = 1 \n",
    "    for char in x:\n",
    "        if char == \" \":\n",
    "            i +=1\n",
    "    return i \n",
    "\n",
    "x = input()\n",
    "wordcount(x)"
   ]
  },
  {
   "cell_type": "code",
   "execution_count": 3,
   "metadata": {},
   "outputs": [
    {
     "data": {
      "text/plain": [
       "125"
      ]
     },
     "execution_count": 3,
     "metadata": {},
     "output_type": "execute_result"
    }
   ],
   "source": [
    "def pow (base , expo):\n",
    "    power = 1\n",
    "    for i in range (1,expo+1):\n",
    "        power = base * power\n",
    "    return power\n",
    "\n",
    "pow(5,3)"
   ]
  },
  {
   "cell_type": "code",
   "execution_count": 4,
   "metadata": {},
   "outputs": [
    {
     "name": "stdout",
     "output_type": "stream",
     "text": [
      "50\n",
      "153.93804002589985\n"
     ]
    }
   ],
   "source": [
    "import math\n",
    "def area(shape,**k):\n",
    "    if shape == 'rectangle':\n",
    "        if 'width' in k and 'height' in k:\n",
    "            width = k['width']\n",
    "            height = k['height']\n",
    "            return width * height\n",
    "        else:\n",
    "           print(\"Missing parameters for rectangle. Provide 'width' and 'height'.\")\n",
    "    \n",
    "    elif shape == 'circle':\n",
    "        if 'radius' in k:\n",
    "            radius = k['radius']\n",
    "            return math.pi * radius ** 2\n",
    "\n",
    "print(area('rectangle', width=5, height=10))  \n",
    "print(area('circle', radius=7))"
   ]
  },
  {
   "cell_type": "code",
   "execution_count": 5,
   "metadata": {},
   "outputs": [
    {
     "data": {
      "text/plain": [
       "23"
      ]
     },
     "execution_count": 5,
     "metadata": {},
     "output_type": "execute_result"
    }
   ],
   "source": [
    "def sums (list):\n",
    "    sums = 0\n",
    "    for i in list:\n",
    "        sums = sums + i\n",
    "    return sums\n",
    "\n",
    "list = [1,2,3,4,6,7]\n",
    "sums(list)"
   ]
  },
  {
   "cell_type": "code",
   "execution_count": 6,
   "metadata": {},
   "outputs": [
    {
     "name": "stdout",
     "output_type": "stream",
     "text": [
      "2 7\n"
     ]
    }
   ],
   "source": [
    "t1 = (2,3,4)\n",
    "t2 = (5,6,7)\n",
    "\n",
    "T = t1 + t2 \n",
    "T = sorted(T)\n",
    "print(T[0],T[-1])\n"
   ]
  },
  {
   "cell_type": "code",
   "execution_count": 3,
   "metadata": {},
   "outputs": [
    {
     "data": {
      "text/plain": [
       "3"
      ]
     },
     "execution_count": 3,
     "metadata": {},
     "output_type": "execute_result"
    }
   ],
   "source": [
    "def tlength(tup):\n",
    "    if len (tup) >= 5:\n",
    "        count = 0\n",
    "        for i in tup:\n",
    "            if isinstance(i,(int,)):\n",
    "                count +=1\n",
    "        return count\n",
    "    else:\n",
    "        print (\"the tuple elements are less than 5\")\n",
    "\n",
    "tup = (3,6,\"sjd\",\"ijdls\",67)\n",
    "tlength(tup)    \n"
   ]
  },
  {
   "cell_type": "code",
   "execution_count": 8,
   "metadata": {},
   "outputs": [
    {
     "name": "stdout",
     "output_type": "stream",
     "text": [
      "the value 1 has index 0\n",
      "the value 2 has index 1\n",
      "the value 4 has index 2\n",
      "the value 5 has index 3\n"
     ]
    }
   ],
   "source": [
    "def index (l):\n",
    "    x = -1\n",
    "    for i in l:\n",
    "        x += 1\n",
    "        print (\"the value\", i , \"has index\", x)\n",
    "l = [1,2,4,5]\n",
    "index(l)"
   ]
  },
  {
   "cell_type": "code",
   "execution_count": 9,
   "metadata": {},
   "outputs": [
    {
     "name": "stdout",
     "output_type": "stream",
     "text": [
      "the number is in the given range\n"
     ]
    }
   ],
   "source": [
    "\n",
    "def check(givenrange,number):\n",
    "    flag = False\n",
    "    for i in range(1,givenrange+1):\n",
    "        if number == i:\n",
    "            flag = True\n",
    "            print (\"the number is in the given range\")\n",
    "    \n",
    "    if flag == False:\n",
    "        print(\"the number isn't in the given range\")\n",
    "\n",
    "givenrange = int(input())\n",
    "number = int(input())\n",
    "check(givenrange,number)"
   ]
  },
  {
   "cell_type": "code",
   "execution_count": 10,
   "metadata": {},
   "outputs": [
    {
     "name": "stdout",
     "output_type": "stream",
     "text": [
      "it's a prime\n"
     ]
    }
   ],
   "source": [
    "prime = int(input())\n",
    "def checkprime(prime):\n",
    "    \n",
    "    if prime <= 1:\n",
    "        print(\"it's not a prime\")\n",
    "    if prime > 1:\n",
    "        x = []\n",
    "        for p in range(2,prime):\n",
    "            if (prime % p) == 0:\n",
    "                print(\"it's not a prime\")\n",
    "                x.append(p)\n",
    "                break\n",
    "    if len(x) ==0:  \n",
    "        print(\"it's a prime\")\n",
    "\n",
    "checkprime(prime)"
   ]
  },
  {
   "cell_type": "code",
   "execution_count": 11,
   "metadata": {},
   "outputs": [
    {
     "name": "stdout",
     "output_type": "stream",
     "text": [
      "[30.5, 34.25, 27.0, 23.25]\n"
     ]
    }
   ],
   "source": [
    "def avgs (tuples):\n",
    "    tupavg = []\n",
    "    sum1,sum2,sum3,sum4 = 0,0,0,0\n",
    "\n",
    "    for t in tuples:\n",
    "        sum1 += t[0] \n",
    "        sum2 += t[1]\n",
    "        sum3 += t[2]\n",
    "        sum4 += t[3]\n",
    "    avg1 = sum1 /len(t) \n",
    "    avg2 = sum2 /len(t)\n",
    "    avg3 = sum3 /len(t)\n",
    "    avg4 = sum4 /len(t)\n",
    "    tupavg.append(avg1)\n",
    "    tupavg.append(avg2)\n",
    "    tupavg.append(avg3)\n",
    "    tupavg.append(avg4)\n",
    "    return(tupavg)\n",
    "\n",
    "tuples = ((10, 10, 10, 12), (30, 45, 56, 45), (81, 80, 39, 32), (1, 2, 3, 4))\n",
    "averages = avgs(tuples)\n",
    "print (averages)"
   ]
  },
  {
   "cell_type": "code",
   "execution_count": 12,
   "metadata": {},
   "outputs": [
    {
     "name": "stdout",
     "output_type": "stream",
     "text": [
      "['1', '2', '2', '3', '3', '3', '4', '5', '5', '5', '6', '7', '8', '8', '9']\n"
     ]
    }
   ],
   "source": [
    "listtocheck = input()\n",
    "if len(listtocheck) == 0:\n",
    "    print (\"it is an empty list\")\n",
    "else:\n",
    "    decreasedlist = sorted(listtocheck)\n",
    "    print(decreasedlist)"
   ]
  },
  {
   "cell_type": "code",
   "execution_count": 13,
   "metadata": {},
   "outputs": [
    {
     "name": "stdout",
     "output_type": "stream",
     "text": [
      "True\n"
     ]
    }
   ],
   "source": [
    "l1 = input()\n",
    "l2 = input()\n",
    "existance = []\n",
    "for e in l1:\n",
    "    for a in l2:\n",
    "        if a == e:\n",
    "           existance.append(a) \n",
    "\n",
    "if len(existance) != 0:\n",
    "    print(True)\n",
    "else:\n",
    "    print(\"no common member\")"
   ]
  },
  {
   "cell_type": "code",
   "execution_count": 14,
   "metadata": {},
   "outputs": [
    {
     "name": "stdout",
     "output_type": "stream",
     "text": [
      "[1, 3, 5, 7, 9]\n"
     ]
    }
   ],
   "source": [
    "numlist = [1,2,3,4,5,6,7,8,9,10]\n",
    "for num in numlist:\n",
    "    if num % 2 == 0:\n",
    "        numlist.remove(num)\n",
    "\n",
    "print(numlist)"
   ]
  }
 ],
 "metadata": {
  "kernelspec": {
   "display_name": "Python 3",
   "language": "python",
   "name": "python3"
  },
  "language_info": {
   "codemirror_mode": {
    "name": "ipython",
    "version": 3
   },
   "file_extension": ".py",
   "mimetype": "text/x-python",
   "name": "python",
   "nbconvert_exporter": "python",
   "pygments_lexer": "ipython3",
   "version": "3.10.11"
  }
 },
 "nbformat": 4,
 "nbformat_minor": 2
}
