{
 "cells": [
  {
   "cell_type": "code",
   "execution_count": 2,
   "metadata": {},
   "outputs": [],
   "source": [
    "class customer:\n",
    "    def __init__ (self,name,age):\n",
    "        self.name = name\n",
    "        self.age = age\n",
    "    \n",
    "    def get_name(self):\n",
    "        return self.name\n",
    "    \n",
    "    def get_age(self):\n",
    "        return self.age\n",
    "    \n",
    "    def set_name(self):\n",
    "        self.name = input(\"what's your name\")\n",
    "\n",
    "    def set_age(self):\n",
    "        self.age = input(\"how old are you\")\n",
    "    \n"
   ]
  },
  {
   "cell_type": "code",
   "execution_count": 3,
   "metadata": {},
   "outputs": [],
   "source": [
    "customer1 = customer(\"none\" , 0 )\n",
    "customer1.set_name()\n",
    "customer1.set_age()\n"
   ]
  },
  {
   "cell_type": "code",
   "execution_count": 4,
   "metadata": {},
   "outputs": [
    {
     "data": {
      "text/plain": [
       "'nada'"
      ]
     },
     "execution_count": 4,
     "metadata": {},
     "output_type": "execute_result"
    }
   ],
   "source": [
    "customer1.get_name()\n"
   ]
  },
  {
   "cell_type": "code",
   "execution_count": 5,
   "metadata": {},
   "outputs": [
    {
     "data": {
      "text/plain": [
       "'23'"
      ]
     },
     "execution_count": 5,
     "metadata": {},
     "output_type": "execute_result"
    }
   ],
   "source": [
    "customer1.get_age()"
   ]
  },
  {
   "cell_type": "code",
   "execution_count": 6,
   "metadata": {},
   "outputs": [],
   "source": [
    "class Bike:\n",
    "    def __init__(self, name, price):\n",
    "        self.name = name   \n",
    "        self.price = price \n",
    "        self.bikelist = {} #bike store\n",
    "\n",
    "    def get_name(self):\n",
    "        return self.name\n",
    "    \n",
    "    def get_price(self):\n",
    "        return self.price\n",
    "    \n",
    "    def set_name(self, bike_name):\n",
    "        self.name = bike_name\n",
    "\n",
    "    def set_price(self,bike_price):\n",
    "        self.price = bike_price\n",
    "    \n",
    "    def get_bike(self):\n",
    "        return self.bikelist\n",
    "\n",
    "    def set_bike(self,bike_name,bike_price):\n",
    "        for n in range(len(bike_name)):\n",
    "            self.bikelist.update({bike_name[n] : bike_price[n]})\n",
    "           \n",
    "\n",
    "class electricBike(Bike): \n",
    "    def __init__(self, name, price, maxspeed):\n",
    "        super().__init__(name,price)\n",
    "        self.maxspeed = maxspeed\n",
    "    \n",
    "    def get_maxspeed(self):\n",
    "        return self.maxspeed\n",
    "    \n",
    "    def set_maxspeed(self, bike_maxspeed):\n",
    "        self.maxspeed = bike_maxspeed  \n",
    "\n",
    "\n",
    "class normalBike(Bike):\n",
    "    def __init__(self, name, price, maxspeed):\n",
    "        super().__init__(name, price)\n",
    "        self.maxspeed = maxspeed\n",
    "    \n",
    "    def get_maxspeed(self):\n",
    "        return self.maxspeed\n",
    "    \n",
    "    def set_maxspeed(self, bike_maxspeed):\n",
    "        self.maxspeed = bike_maxspeed  \n"
   ]
  },
  {
   "cell_type": "code",
   "execution_count": 22,
   "metadata": {},
   "outputs": [],
   "source": [
    "class MainBikeRental:\n",
    "    def __init__(self):\n",
    "        self.bikes = [] #avaliable ones \n",
    "        self.price = [] #prices for them\n",
    "        self.rentals = []\n",
    "    \n",
    "    def get_bikes(self):\n",
    "        return self.bikes\n",
    "    \n",
    "    def get_rentals(self):\n",
    "        return self.rentals\n",
    "    \n",
    "    def set_bikes(self, new_bikes):\n",
    "        self.bikes = new_bikes\n",
    "\n",
    "    def set_rental(self,new_rentals):\n",
    "        self.rentals = new_rentals\n",
    "\n",
    "    def requestBike(self):\n",
    "        num_of_bikes = int(input(\"how many bikes do you want?\"))\n",
    "        \n",
    "        if int(customer1.get_age()) < 6:\n",
    "            print(\"customers must be over 6 years old to rent a bike\")\n",
    "\n",
    "        if num_of_bikes <= len(self.bikes) and int(customer1.get_age()) > 6:\n",
    "            for bike in range (num_of_bikes):\n",
    "                self.bikes.pop(0)\n",
    "                self.price.pop(0)\n",
    "        else:\n",
    "            print(\"please wait 10 mins\")\n",
    "    \n",
    "    def returnBike(self):\n",
    "        rentalTime = float(input(\"what is the rental time?\"))\n",
    "        num_of_bikes = int(input(\"how many bikes do you return\"))\n",
    "        bill_cost = 40 * rentalTime * num_of_bikes\n",
    "        returnedBikes_name = []\n",
    "        returnedBikes_price = []\n",
    "        for i in range(num_of_bikes):\n",
    "            bike_name = input(\"what is the bike name?\")\n",
    "            bike_price = input(\"what is the bike price?\")\n",
    "            self.bikes.append(bike_name)\n",
    "            self.price.append(bike_price)\n",
    "            returnedBikes_name.append(bike_name)\n",
    "            returnedBikes_price.append(bike_price)\n",
    "\n",
    "        bikeclass = Bike(bike_name,bike_price)\n",
    "        bikeclass.set_bike(returnedBikes_name,returnedBikes_price)\n",
    "        returned = bikeclass.get_bike()\n",
    "        \n",
    "        return bill_cost , returned\n",
    "        \n",
    "    def addBike(self,new_bike,price):\n",
    "        self.bikes.append(new_bike)\n",
    "        self.price.append(price)\n",
    "    \n",
    "        bikeclass = Bike(new_bike,price)\n",
    "        bikeclass.set_bike(self.bikes,self.price)\n",
    "        return bikeclass.get_bike()\n",
    "    \n",
    "\n",
    "\n",
    "    def totalCost(self):\n",
    "        total_cost = 0\n",
    "        for bike in range(len(self.price)):\n",
    "            total_cost += int(self.price[bike])\n",
    "        return total_cost \n"
   ]
  },
  {
   "cell_type": "code",
   "execution_count": 23,
   "metadata": {},
   "outputs": [],
   "source": [
    "rental_system = MainBikeRental()"
   ]
  },
  {
   "cell_type": "code",
   "execution_count": 24,
   "metadata": {},
   "outputs": [
    {
     "data": {
      "text/plain": [
       "{'Bike E': 25, 'Bike A': 25}"
      ]
     },
     "execution_count": 24,
     "metadata": {},
     "output_type": "execute_result"
    }
   ],
   "source": [
    "rental_system.addBike(\"Bike E\", 25)\n",
    "rental_system.addBike(\"Bike A\", 25)"
   ]
  },
  {
   "cell_type": "code",
   "execution_count": 25,
   "metadata": {},
   "outputs": [
    {
     "data": {
      "text/plain": [
       "['Bike E', 'Bike A']"
      ]
     },
     "execution_count": 25,
     "metadata": {},
     "output_type": "execute_result"
    }
   ],
   "source": [
    "rental_system.bikes"
   ]
  },
  {
   "cell_type": "code",
   "execution_count": 26,
   "metadata": {},
   "outputs": [
    {
     "data": {
      "text/plain": [
       "(240.0, {'Bike C': '10', 'Bike D': '15', 'Bike N': '30'})"
      ]
     },
     "execution_count": 26,
     "metadata": {},
     "output_type": "execute_result"
    }
   ],
   "source": [
    "rental_system.returnBike()    #rentaltime = 2 & return 3 bikes"
   ]
  },
  {
   "cell_type": "code",
   "execution_count": 27,
   "metadata": {},
   "outputs": [
    {
     "data": {
      "text/plain": [
       "['Bike E', 'Bike A', 'Bike C', 'Bike D', 'Bike N']"
      ]
     },
     "execution_count": 27,
     "metadata": {},
     "output_type": "execute_result"
    }
   ],
   "source": [
    "rental_system.bikes"
   ]
  },
  {
   "cell_type": "code",
   "execution_count": 28,
   "metadata": {},
   "outputs": [
    {
     "data": {
      "text/plain": [
       "105"
      ]
     },
     "execution_count": 28,
     "metadata": {},
     "output_type": "execute_result"
    }
   ],
   "source": [
    "rental_system.totalCost()"
   ]
  },
  {
   "cell_type": "code",
   "execution_count": 29,
   "metadata": {},
   "outputs": [],
   "source": [
    "rental_system.requestBike() #2 bikes"
   ]
  },
  {
   "cell_type": "code",
   "execution_count": 30,
   "metadata": {},
   "outputs": [
    {
     "data": {
      "text/plain": [
       "['Bike C', 'Bike D', 'Bike N']"
      ]
     },
     "execution_count": 30,
     "metadata": {},
     "output_type": "execute_result"
    }
   ],
   "source": [
    "rental_system.bikes"
   ]
  },
  {
   "cell_type": "code",
   "execution_count": 31,
   "metadata": {},
   "outputs": [
    {
     "data": {
      "text/plain": [
       "55"
      ]
     },
     "execution_count": 31,
     "metadata": {},
     "output_type": "execute_result"
    }
   ],
   "source": [
    "rental_system.totalCost()"
   ]
  }
 ],
 "metadata": {
  "kernelspec": {
   "display_name": "Python 3",
   "language": "python",
   "name": "python3"
  },
  "language_info": {
   "codemirror_mode": {
    "name": "ipython",
    "version": 3
   },
   "file_extension": ".py",
   "mimetype": "text/x-python",
   "name": "python",
   "nbconvert_exporter": "python",
   "pygments_lexer": "ipython3",
   "version": "3.10.11"
  }
 },
 "nbformat": 4,
 "nbformat_minor": 2
}
